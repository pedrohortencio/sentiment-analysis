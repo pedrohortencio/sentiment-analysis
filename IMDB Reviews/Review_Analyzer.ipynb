{
  "nbformat": 4,
  "nbformat_minor": 0,
  "metadata": {
    "colab": {
      "name": "Review Analyser.ipynb",
      "provenance": [],
      "collapsed_sections": [],
      "toc_visible": true,
      "authorship_tag": "ABX9TyN3zigBOokh+i1qNEv112Rm",
      "include_colab_link": true
    },
    "kernelspec": {
      "name": "python3",
      "display_name": "Python 3"
    },
    "language_info": {
      "name": "python"
    }
  },
  "cells": [
    {
      "cell_type": "markdown",
      "metadata": {
        "id": "view-in-github",
        "colab_type": "text"
      },
      "source": [
        "<a href=\"https://colab.research.google.com/github/pedrohortencio/sentiment-analysis/blob/main/IMDB%20Reviews/Review_Analyser.ipynb\" target=\"_parent\"><img src=\"https://colab.research.google.com/assets/colab-badge.svg\" alt=\"Open In Colab\"/></a>"
      ]
    },
    {
      "cell_type": "markdown",
      "metadata": {
        "id": "Ga5gK3IWQukm"
      },
      "source": [
        "# Review Analyser\n",
        "\n",
        "This is an AI that classifies a review between \"Positive\" and \"Negative\", based on its overall sentiment.\n",
        "\n",
        "For you to use it, follow these steps:\n",
        "\n",
        "1. Run the cell in the \"Under the Hood\" section. It's the cell that contains the ```def result(review)``` function.\n",
        "2. Run the cell below this text and write your review in the dialog box that'll appear. Press enter when you're done. The model will run and the result will be printed in the cell."
      ]
    },
    {
      "cell_type": "code",
      "metadata": {
        "colab": {
          "base_uri": "https://localhost:8080/"
        },
        "id": "gXx97swmQzP9",
        "outputId": "a75293e3-2b1e-48d7-c8e2-9b3894182317"
      },
      "source": [
        "review = input(\"Write (or just past) your review\")\n",
        "\n",
        "print()\n",
        "print(\"This was a\\n\", result(review))"
      ],
      "execution_count": null,
      "outputs": [
        {
          "output_type": "stream",
          "text": [
            "Write (or just past) your reviewall i have to say is that this was just not good\n",
            "\n",
            "WARNING:tensorflow:6 out of the last 6 calls to <function Model.make_predict_function.<locals>.predict_function at 0x7f5b9b6785f0> triggered tf.function retracing. Tracing is expensive and the excessive number of tracings could be due to (1) creating @tf.function repeatedly in a loop, (2) passing tensors with different shapes, (3) passing Python objects instead of tensors. For (1), please define your @tf.function outside of the loop. For (2), @tf.function has experimental_relax_shapes=True option that relaxes argument shapes that can avoid unnecessary retracing. For (3), please refer to https://www.tensorflow.org/guide/function#controlling_retracing and https://www.tensorflow.org/api_docs/python/tf/function for  more details.\n",
            "This was a\n",
            " Negative review\n"
          ],
          "name": "stdout"
        }
      ]
    },
    {
      "cell_type": "markdown",
      "metadata": {
        "id": "W4Dw1xYeQpvt"
      },
      "source": [
        "# Under the Hood"
      ]
    },
    {
      "cell_type": "code",
      "metadata": {
        "id": "pOZ4E1JRPYnV"
      },
      "source": [
        "def result(review):\n",
        "    # Download the required libraries\n",
        "    import urllib.request\n",
        "    import zipfile\n",
        "    import os\n",
        "    import pickle\n",
        "\n",
        "    from tensorflow import keras\n",
        "    from keras.preprocessing.sequence import pad_sequences\n",
        "\n",
        "    maxlen = 200    # set maxlen for the review\n",
        "    # Pre-trained Model URL\n",
        "    url_model = \"https://github.com/pedrohortencio/sentiment-analysis/blob/main/IMDB%20Reviews/model.zip?raw=true\"\n",
        "    # Tokenizer URL\n",
        "    url_tokenizer = 'https://github.com/pedrohortencio/sentiment-analysis/raw/main/IMDB%20Reviews/tokenizer.pickle'\n",
        "\n",
        "    # Download the tokenizer and model\n",
        "    filename, headers = urllib.request.urlretrieve(url_model, filename=\"/content/model.zip\")\n",
        "    filename, headers = urllib.request.urlretrieve(url_tokenizer, filename=\"/content/tokenizer.pickle\")\n",
        "\n",
        "    # Unzip the model\n",
        "    with zipfile.ZipFile('/content/model.zip', 'r') as zip_ref:\n",
        "        zip_ref.extractall('/content/model')\n",
        "\n",
        "    # Loads the tokenizer\n",
        "    with open('/content/tokenizer.pickle', 'rb') as handle:\n",
        "        tokenizer = pickle.load(handle)\n",
        "\n",
        "    # Function that tokenize the review\n",
        "    def predicting_reviews(texts, sequence=False):\n",
        "        # Saving the sequences\n",
        "        sequences = tokenizer.texts_to_sequences([texts])\n",
        "        # Padding the sequences\n",
        "        data = pad_sequences(sequences, maxlen=maxlen)\n",
        "        return data\n",
        "    \n",
        "    # Loads the model\n",
        "    model = keras.models.load_model('/content/model/model')\n",
        "    # Predict the review\n",
        "    review = predicting_reviews(review)\n",
        "    predict = model.predict(review)\n",
        "    # Round the result (a real number between 0-1)\n",
        "    sentiment_class = round(predict[0][0])\n",
        "    # Return the class\n",
        "    if sentiment_class == 1:\n",
        "        return \"Positive review\"\n",
        "    else:\n",
        "        return \"Negative review\""
      ],
      "execution_count": null,
      "outputs": []
    }
  ]
}
