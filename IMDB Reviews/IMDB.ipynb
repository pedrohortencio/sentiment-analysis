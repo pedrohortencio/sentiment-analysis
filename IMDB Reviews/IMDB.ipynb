{
  "nbformat": 4,
  "nbformat_minor": 0,
  "metadata": {
    "colab": {
      "name": "IMDB.ipynb",
      "provenance": [],
      "collapsed_sections": [],
      "authorship_tag": "ABX9TyNsbSal2PadtbmOmrSSkUil",
      "include_colab_link": true
    },
    "kernelspec": {
      "name": "python3",
      "display_name": "Python 3"
    },
    "language_info": {
      "name": "python"
    },
    "accelerator": "GPU"
  },
  "cells": [
    {
      "cell_type": "markdown",
      "metadata": {
        "id": "view-in-github",
        "colab_type": "text"
      },
      "source": [
        "<a href=\"https://colab.research.google.com/github/pedrohortencio/sentiment-analysis/blob/main/IMDB%20Reviews/IMDB.ipynb\" target=\"_parent\"><img src=\"https://colab.research.google.com/assets/colab-badge.svg\" alt=\"Open In Colab\"/></a>"
      ]
    },
    {
      "cell_type": "markdown",
      "metadata": {
        "id": "Vd8l4s8rn5wO"
      },
      "source": [
        "Data:\n",
        "* [Kaggle](https://www.kaggle.com/lakshmi25npathi/imdb-dataset-of-50k-movie-reviews)\n",
        "* [Stanford](http://ai.stanford.edu/~amaas/data/sentiment/)"
      ]
    },
    {
      "cell_type": "markdown",
      "metadata": {
        "id": "zeeVrf6Yo_vU"
      },
      "source": [
        "## Downloading Data and Importing Libraries"
      ]
    },
    {
      "cell_type": "code",
      "metadata": {
        "id": "hfi92BW_6yXu",
        "colab": {
          "base_uri": "https://localhost:8080/"
        },
        "outputId": "c03075ba-cfb4-4352-e1ec-98dce43de7ee"
      },
      "source": [
        "import pandas as pd\n",
        "import numpy as np\n",
        "import matplotlib.pyplot as plt\n",
        "import seaborn as sns\n",
        "\n",
        "\n",
        "import nltk\n",
        "from nltk.stem import WordNetLemmatizer\n",
        "from nltk.corpus import stopwords\n",
        "\n",
        "from bs4 import BeautifulSoup\n",
        "import re\n",
        "\n",
        "from keras.preprocessing.text import Tokenizer\n",
        "from keras.preprocessing.sequence import pad_sequences\n",
        "\n",
        "from tensorflow.keras.callbacks import EarlyStopping\n",
        "from keras.models import Sequential\n",
        "from keras.layers import Flatten, Dense, Embedding, LSTM\n",
        "from keras import preprocessing\n",
        "from keras.preprocessing import sequence\n",
        "\n",
        "max_words = 10000 \n",
        "maxlen = 200  \n",
        "batch_size = 64\n",
        "training_samples = 45000\n",
        "test_samples = 5000\n",
        "embedding_dim = 100\n",
        "\n",
        "nltk.download('stopwords')  # Downloading the stopwords\n",
        "nltk.download('wordnet')\n",
        "sns.set_theme()"
      ],
      "execution_count": 185,
      "outputs": [
        {
          "output_type": "stream",
          "text": [
            "[nltk_data] Downloading package stopwords to /root/nltk_data...\n",
            "[nltk_data]   Package stopwords is already up-to-date!\n",
            "[nltk_data] Downloading package wordnet to /root/nltk_data...\n",
            "[nltk_data]   Package wordnet is already up-to-date!\n"
          ],
          "name": "stdout"
        }
      ]
    },
    {
      "cell_type": "code",
      "metadata": {
        "colab": {
          "base_uri": "https://localhost:8080/"
        },
        "id": "bNgXUN0Dm2lB",
        "outputId": "d3591586-700c-4f4f-efba-6b4e3e28dfe1"
      },
      "source": [
        "# Installing Kaggle API and downloading the dataset\n",
        "!pip install -q kaggle\n",
        "!mkdir -p ~/.kaggle\n",
        "!cp kaggle.json ~/.kaggle/\n",
        "\n",
        "!kaggle datasets download -d lakshmi25npathi/imdb-dataset-of-50k-movie-reviews"
      ],
      "execution_count": 3,
      "outputs": [
        {
          "output_type": "stream",
          "text": [
            "Warning: Your Kaggle API key is readable by other users on this system! To fix this, you can run 'chmod 600 /root/.kaggle/kaggle.json'\n",
            "Downloading imdb-dataset-of-50k-movie-reviews.zip to /content\n",
            " 19% 5.00M/25.7M [00:00<00:00, 49.0MB/s]\n",
            "100% 25.7M/25.7M [00:00<00:00, 126MB/s] \n"
          ],
          "name": "stdout"
        }
      ]
    },
    {
      "cell_type": "markdown",
      "metadata": {
        "id": "bDMWz-Iko7v6"
      },
      "source": [
        "## Data Cleaning"
      ]
    },
    {
      "cell_type": "code",
      "metadata": {
        "colab": {
          "base_uri": "https://localhost:8080/",
          "height": 204
        },
        "id": "5EE-d5uA6xM3",
        "outputId": "3b1002be-d885-4cfb-f97a-a1bec7c05400"
      },
      "source": [
        "df = pd.read_csv(\"/content/imdb-dataset-of-50k-movie-reviews.zip\", compression='zip')\n",
        "df.sample(5)"
      ],
      "execution_count": 186,
      "outputs": [
        {
          "output_type": "execute_result",
          "data": {
            "text/html": [
              "<div>\n",
              "<style scoped>\n",
              "    .dataframe tbody tr th:only-of-type {\n",
              "        vertical-align: middle;\n",
              "    }\n",
              "\n",
              "    .dataframe tbody tr th {\n",
              "        vertical-align: top;\n",
              "    }\n",
              "\n",
              "    .dataframe thead th {\n",
              "        text-align: right;\n",
              "    }\n",
              "</style>\n",
              "<table border=\"1\" class=\"dataframe\">\n",
              "  <thead>\n",
              "    <tr style=\"text-align: right;\">\n",
              "      <th></th>\n",
              "      <th>review</th>\n",
              "      <th>sentiment</th>\n",
              "    </tr>\n",
              "  </thead>\n",
              "  <tbody>\n",
              "    <tr>\n",
              "      <th>16764</th>\n",
              "      <td>I watched fantabulosa! because over the last f...</td>\n",
              "      <td>positive</td>\n",
              "    </tr>\n",
              "    <tr>\n",
              "      <th>46942</th>\n",
              "      <td>The makers of this fine film did a terrific jo...</td>\n",
              "      <td>positive</td>\n",
              "    </tr>\n",
              "    <tr>\n",
              "      <th>16024</th>\n",
              "      <td>\"Boogie Nights\" is a masterpiece it tells a gr...</td>\n",
              "      <td>positive</td>\n",
              "    </tr>\n",
              "    <tr>\n",
              "      <th>35434</th>\n",
              "      <td>THE EXPERT, starring Jeff Speakman, is the def...</td>\n",
              "      <td>negative</td>\n",
              "    </tr>\n",
              "    <tr>\n",
              "      <th>36471</th>\n",
              "      <td>*MINOR SPOILERS*&lt;br /&gt;&lt;br /&gt;Need any further p...</td>\n",
              "      <td>positive</td>\n",
              "    </tr>\n",
              "  </tbody>\n",
              "</table>\n",
              "</div>"
            ],
            "text/plain": [
              "                                                  review sentiment\n",
              "16764  I watched fantabulosa! because over the last f...  positive\n",
              "46942  The makers of this fine film did a terrific jo...  positive\n",
              "16024  \"Boogie Nights\" is a masterpiece it tells a gr...  positive\n",
              "35434  THE EXPERT, starring Jeff Speakman, is the def...  negative\n",
              "36471  *MINOR SPOILERS*<br /><br />Need any further p...  positive"
            ]
          },
          "metadata": {
            "tags": []
          },
          "execution_count": 186
        }
      ]
    },
    {
      "cell_type": "code",
      "metadata": {
        "colab": {
          "base_uri": "https://localhost:8080/",
          "height": 173
        },
        "id": "ztN8NftI7BY0",
        "outputId": "8d67d74a-1a3a-46e8-bdd2-9e62a3c9dc25"
      },
      "source": [
        "df.describe()"
      ],
      "execution_count": 5,
      "outputs": [
        {
          "output_type": "execute_result",
          "data": {
            "text/html": [
              "<div>\n",
              "<style scoped>\n",
              "    .dataframe tbody tr th:only-of-type {\n",
              "        vertical-align: middle;\n",
              "    }\n",
              "\n",
              "    .dataframe tbody tr th {\n",
              "        vertical-align: top;\n",
              "    }\n",
              "\n",
              "    .dataframe thead th {\n",
              "        text-align: right;\n",
              "    }\n",
              "</style>\n",
              "<table border=\"1\" class=\"dataframe\">\n",
              "  <thead>\n",
              "    <tr style=\"text-align: right;\">\n",
              "      <th></th>\n",
              "      <th>review</th>\n",
              "      <th>sentiment</th>\n",
              "    </tr>\n",
              "  </thead>\n",
              "  <tbody>\n",
              "    <tr>\n",
              "      <th>count</th>\n",
              "      <td>50000</td>\n",
              "      <td>50000</td>\n",
              "    </tr>\n",
              "    <tr>\n",
              "      <th>unique</th>\n",
              "      <td>49582</td>\n",
              "      <td>2</td>\n",
              "    </tr>\n",
              "    <tr>\n",
              "      <th>top</th>\n",
              "      <td>Loved today's show!!! It was a variety and not...</td>\n",
              "      <td>positive</td>\n",
              "    </tr>\n",
              "    <tr>\n",
              "      <th>freq</th>\n",
              "      <td>5</td>\n",
              "      <td>25000</td>\n",
              "    </tr>\n",
              "  </tbody>\n",
              "</table>\n",
              "</div>"
            ],
            "text/plain": [
              "                                                   review sentiment\n",
              "count                                               50000     50000\n",
              "unique                                              49582         2\n",
              "top     Loved today's show!!! It was a variety and not...  positive\n",
              "freq                                                    5     25000"
            ]
          },
          "metadata": {
            "tags": []
          },
          "execution_count": 5
        }
      ]
    },
    {
      "cell_type": "code",
      "metadata": {
        "colab": {
          "base_uri": "https://localhost:8080/"
        },
        "id": "dw0s7_Gx7Slv",
        "outputId": "a778c17a-dd5f-4d81-a54c-41b667a3f583"
      },
      "source": [
        "df['sentiment'] = [1 if i == 'positive' else 0 for i in df['sentiment']]\n",
        "df['sentiment'].value_counts()"
      ],
      "execution_count": 187,
      "outputs": [
        {
          "output_type": "execute_result",
          "data": {
            "text/plain": [
              "1    25000\n",
              "0    25000\n",
              "Name: sentiment, dtype: int64"
            ]
          },
          "metadata": {
            "tags": []
          },
          "execution_count": 187
        }
      ]
    },
    {
      "cell_type": "code",
      "metadata": {
        "colab": {
          "base_uri": "https://localhost:8080/"
        },
        "id": "0JGGy03uNHVV",
        "outputId": "5bfc4012-c6f2-4c1d-fa0d-04faf4df06ba"
      },
      "source": [
        "df.isnull().sum().sort_values(ascending=False)"
      ],
      "execution_count": 14,
      "outputs": [
        {
          "output_type": "execute_result",
          "data": {
            "text/plain": [
              "sentiment    0\n",
              "review       0\n",
              "dtype: int64"
            ]
          },
          "metadata": {
            "tags": []
          },
          "execution_count": 14
        }
      ]
    },
    {
      "cell_type": "markdown",
      "metadata": {
        "id": "-BBF2kNrpG-j"
      },
      "source": [
        "### Cleaning"
      ]
    },
    {
      "cell_type": "code",
      "metadata": {
        "colab": {
          "base_uri": "https://localhost:8080/"
        },
        "id": "QL5iJO8YxS_1",
        "outputId": "3ea67e6d-e234-4d7e-bdab-499d76be909d"
      },
      "source": [
        "# List of stopwords\n",
        "stop = set(stopwords.words('english'))\n",
        "print(stop)"
      ],
      "execution_count": 188,
      "outputs": [
        {
          "output_type": "stream",
          "text": [
            "{'for', 'at', 'll', 'from', 'through', 'very', 'him', 'don', 'd', 'to', 'theirs', \"that'll\", \"couldn't\", 'herself', 'once', 'own', 'didn', \"hasn't\", 'mustn', 'will', 'those', 'but', 'which', 'what', 'while', \"needn't\", 'hers', 'their', 'shouldn', 'be', 'who', 'just', \"should've\", 'down', 'above', \"you've\", 'the', 'had', 've', 'during', 'too', 'after', \"it's\", 'were', 'between', 'hasn', 'weren', 'each', 'we', 'it', 't', 'y', 'myself', 'how', 'under', 'he', 'did', 'her', 'ain', \"aren't\", 'themselves', 'me', 'in', \"weren't\", 'am', 'doing', \"wouldn't\", 'is', 'by', 'these', \"shan't\", 'of', 'hadn', 'o', 'whom', 'a', 'couldn', 'himself', 'needn', 're', 'having', \"hadn't\", 'all', 'haven', 'about', 'on', 'only', 'and', 'them', 'where', \"don't\", 'against', 'are', 'ourselves', 'an', 'up', 'm', 'yours', \"mightn't\", 'have', 'here', 'if', 'wasn', 'no', 'any', 'not', 'should', 'now', \"haven't\", 'isn', 'my', 'same', 'ours', 'than', 'does', 'into', 'being', 'been', 'further', 'few', 'can', \"shouldn't\", 'there', 'below', 'so', 'shan', \"you're\", \"doesn't\", 'with', 'nor', 'won', 'wouldn', 'they', 'yourself', 'off', 'before', 'our', 'itself', 'i', 's', 'because', 'do', 'or', 'ma', 'such', 'other', 'your', \"you'd\", 'yourselves', \"she's\", 'out', 'you', 'when', \"wasn't\", 'some', 'until', 'most', 'both', \"mustn't\", \"you'll\", 'aren', 'doesn', \"didn't\", 'his', 'again', \"won't\", 'then', 'its', \"isn't\", 'has', 'more', 'this', 'why', 'she', 'was', 'as', 'that', 'over', 'mightn'}\n"
          ],
          "name": "stdout"
        }
      ]
    },
    {
      "cell_type": "code",
      "metadata": {
        "id": "eVR_2iZC8OSP"
      },
      "source": [
        "#Removing the html strips\n",
        "def denoise_text(text, remove_digits=True):\n",
        "\n",
        "    # removes html tags\n",
        "    soup = BeautifulSoup(text, \"html.parser\")\n",
        "    text = soup.get_text()\n",
        "\n",
        "    # removes everything between square brackets\n",
        "    text = re.sub('\\[[^]]*\\]', '', text)\n",
        "\n",
        "    # keeps only lower or upper case letters\n",
        "    text = re.sub('[^a-zA-Z]', ' ', text)\n",
        "\n",
        "    # lower case the text\n",
        "    text = text.lower()\n",
        "\n",
        "    # removes stopwords (words that don't add much meaning to the sentences)\n",
        "    text = text.split()     # splitting because it only workds in a word-by-word scheme\n",
        "    stop = set(stopwords.words('english'))\n",
        "    text = [word for word in text if not word in stop]\n",
        "\n",
        "    # Lemmatizing the text\n",
        "    #lem = WordNetLemmatizer()\n",
        "    #text = [lem.lemmatize(word) for word in text]\n",
        "\n",
        "    # merging the words again\n",
        "    text = ' '.join(text)\n",
        "\n",
        "    return text\n",
        "    \n",
        "\n",
        "#Apply function on review column\n",
        "df['review'] = df['review'].apply(denoise_text)"
      ],
      "execution_count": 189,
      "outputs": []
    },
    {
      "cell_type": "markdown",
      "metadata": {
        "id": "qjUUwoPN8R1G"
      },
      "source": [
        "### Tokenizing"
      ]
    },
    {
      "cell_type": "code",
      "metadata": {
        "id": "MdckEGrGdZzW"
      },
      "source": [
        "texts = df['review']\n",
        "\n",
        "# Tokenizing the texts\n",
        "tokenizer = Tokenizer(num_words = max_words)\n",
        "tokenizer.fit_on_texts(texts)\n",
        "\n",
        "# Saving the sequences\n",
        "sequences = tokenizer.texts_to_sequences(texts)\n",
        "\n",
        "# Padding the sequences\n",
        "data = pad_sequences(sequences, maxlen=maxlen)\n",
        "\n",
        "# Saving the labels\n",
        "labels = df['sentiment'].to_numpy()\n",
        "\n",
        "# Shuffling the data and splitting in train and test\n",
        "indices = np.arange(data.shape[0])\n",
        "np.random.shuffle(indices)\n",
        "data = data[indices]\n",
        "labels = labels[indices]\n",
        "\n",
        "x_train = data[:training_samples]\n",
        "y_train = labels[:training_samples]\n",
        "x_test = data[training_samples: training_samples + test_samples]\n",
        "y_test = labels[training_samples: training_samples + test_samples]"
      ],
      "execution_count": 190,
      "outputs": []
    },
    {
      "cell_type": "code",
      "metadata": {
        "id": "iDqZhdLfKpkX"
      },
      "source": [
        "# saving the tokenizer for later use (in other notebooks)\n",
        "import pickle\n",
        "with open('tokenizer.pickle', 'wb') as handle:\n",
        "    pickle.dump(tokenizer, handle, protocol=pickle.HIGHEST_PROTOCOL)"
      ],
      "execution_count": 191,
      "outputs": []
    },
    {
      "cell_type": "code",
      "metadata": {
        "colab": {
          "base_uri": "https://localhost:8080/"
        },
        "id": "bupQIS1XF_z8",
        "outputId": "c7bf68a6-4d35-48e7-8b95-6cbcbf8daf90"
      },
      "source": [
        "x_train.shape"
      ],
      "execution_count": 73,
      "outputs": [
        {
          "output_type": "execute_result",
          "data": {
            "text/plain": [
              "(30000, 300)"
            ]
          },
          "metadata": {
            "tags": []
          },
          "execution_count": 73
        }
      ]
    },
    {
      "cell_type": "code",
      "metadata": {
        "colab": {
          "base_uri": "https://localhost:8080/"
        },
        "id": "Lpj9EEEGGB6q",
        "outputId": "83ae9ef6-6f90-49b3-b618-f72d2178f952"
      },
      "source": [
        "x_train"
      ],
      "execution_count": 74,
      "outputs": [
        {
          "output_type": "execute_result",
          "data": {
            "text/plain": [
              "array([[   0,    0,    0, ...,  147, 2306, 1535],\n",
              "       [   0,    0,    0, ...,  122, 1893, 2559],\n",
              "       [   0,    0,    0, ...,  116, 3823, 2085],\n",
              "       ...,\n",
              "       [   0,    0,    0, ...,  223, 2966,  494],\n",
              "       [   0,    0,    0, ...,  336,   70,    3],\n",
              "       [   0,    0,    0, ..., 3675, 1177,    3]], dtype=int32)"
            ]
          },
          "metadata": {
            "tags": []
          },
          "execution_count": 74
        }
      ]
    },
    {
      "cell_type": "code",
      "metadata": {
        "colab": {
          "base_uri": "https://localhost:8080/"
        },
        "id": "acJaKwYICZDW",
        "outputId": "ac012bf8-b53d-48e8-d2eb-113c66844371"
      },
      "source": [
        "y_train.shape"
      ],
      "execution_count": 34,
      "outputs": [
        {
          "output_type": "execute_result",
          "data": {
            "text/plain": [
              "(15000,)"
            ]
          },
          "metadata": {
            "tags": []
          },
          "execution_count": 34
        }
      ]
    },
    {
      "cell_type": "markdown",
      "metadata": {
        "id": "zxqr891r8Wms"
      },
      "source": [
        "## Creating the model"
      ]
    },
    {
      "cell_type": "code",
      "metadata": {
        "id": "gskCIz0yZFvN"
      },
      "source": [
        "model = Sequential()\n",
        "model.add(Embedding(max_words, embedding_dim, input_length=maxlen))\n",
        "#model.add(LSTM(32, return_sequences=True))\n",
        "model.add(LSTM(32))\n",
        "model.add(Dense(1, activation='sigmoid'))\n",
        "#odel.add(Dense(2,activation='softmax'))\n",
        "\n",
        "model.compile(optimizer='adam',\n",
        "              loss='binary_crossentropy',\n",
        "              metrics=['acc'])"
      ],
      "execution_count": 199,
      "outputs": []
    },
    {
      "cell_type": "code",
      "metadata": {
        "colab": {
          "base_uri": "https://localhost:8080/"
        },
        "id": "NZE2Jh8oB27E",
        "outputId": "003a596f-9aa7-4109-9bf5-b6e617b4d527"
      },
      "source": [
        "model.summary()"
      ],
      "execution_count": 200,
      "outputs": [
        {
          "output_type": "stream",
          "text": [
            "Model: \"sequential_13\"\n",
            "_________________________________________________________________\n",
            "Layer (type)                 Output Shape              Param #   \n",
            "=================================================================\n",
            "embedding_12 (Embedding)     (None, 200, 100)          1000000   \n",
            "_________________________________________________________________\n",
            "lstm_19 (LSTM)               (None, 32)                17024     \n",
            "_________________________________________________________________\n",
            "dense_11 (Dense)             (None, 1)                 33        \n",
            "=================================================================\n",
            "Total params: 1,017,057\n",
            "Trainable params: 1,017,057\n",
            "Non-trainable params: 0\n",
            "_________________________________________________________________\n"
          ],
          "name": "stdout"
        }
      ]
    },
    {
      "cell_type": "code",
      "metadata": {
        "id": "jFJhiq8N9_qb"
      },
      "source": [
        "loss_callback = EarlyStopping(monitor='val_loss', patience=3)"
      ],
      "execution_count": 201,
      "outputs": []
    },
    {
      "cell_type": "code",
      "metadata": {
        "colab": {
          "base_uri": "https://localhost:8080/"
        },
        "id": "9jSgYJn496x0",
        "outputId": "edb38c9f-8bcc-4c11-a16c-acfb5b857bdd"
      },
      "source": [
        "history = model.fit(x_train, y_train,\n",
        "                    epochs=25,\n",
        "                    batch_size=batch_size,\n",
        "                    callbacks=loss_callback,\n",
        "                    validation_split = 0.2)"
      ],
      "execution_count": 202,
      "outputs": [
        {
          "output_type": "stream",
          "text": [
            "Epoch 1/25\n",
            "563/563 [==============================] - 14s 23ms/step - loss: 0.4348 - acc: 0.7885 - val_loss: 0.2760 - val_acc: 0.8852\n",
            "Epoch 2/25\n",
            "563/563 [==============================] - 12s 21ms/step - loss: 0.1911 - acc: 0.9271 - val_loss: 0.2773 - val_acc: 0.8867\n",
            "Epoch 3/25\n",
            "563/563 [==============================] - 12s 22ms/step - loss: 0.1359 - acc: 0.9517 - val_loss: 0.3320 - val_acc: 0.8828\n",
            "Epoch 4/25\n",
            "563/563 [==============================] - 12s 22ms/step - loss: 0.0998 - acc: 0.9666 - val_loss: 0.3555 - val_acc: 0.8753\n"
          ],
          "name": "stdout"
        }
      ]
    },
    {
      "cell_type": "code",
      "metadata": {
        "id": "CH0s6wUr97sz"
      },
      "source": [
        "model.save_weights('IMDB-lstm-model.h5')"
      ],
      "execution_count": 203,
      "outputs": []
    },
    {
      "cell_type": "code",
      "metadata": {
        "colab": {
          "base_uri": "https://localhost:8080/",
          "height": 285
        },
        "id": "OJsltPEm3LXl",
        "outputId": "0f78eee0-2b6d-4829-d04e-1e3ef3724e3e"
      },
      "source": [
        "epochs = range(1, len(history.history['loss'])+1)   # creating a list of number from 1 to number_of_epochs\n",
        "training_loss = history.history['loss']     # takes only the training loss values from the history \n",
        "validation_loss = history.history['val_loss']   # takes the validation loss values from the history\n",
        "\n",
        "\n",
        "# b+ is for \"blue cross\"\n",
        "plt.plot(epochs, training_loss, label='Training Loss')    # plots the training loss\n",
        "# \"bo\" is for \"blue dot\"\n",
        "plt.plot(epochs, validation_loss,label='Validation Loss')    # plots the validation loss\n",
        "plt.xlabel('Epochs')    # adds X label\n",
        "plt.ylabel('Loss')      # adds Y labels\n",
        "plt.legend()    # adds legend\n",
        "\n",
        "plt.show()  # display the plot"
      ],
      "execution_count": 169,
      "outputs": [
        {
          "output_type": "display_data",
          "data": {
            "image/png": "[encoded data removed]",
            "text/plain": [
              "<Figure size 432x288 with 1 Axes>"
            ]
          },
          "metadata": {
            "tags": []
          }
        }
      ]
    },
    {
      "cell_type": "code",
      "metadata": {
        "colab": {
          "base_uri": "https://localhost:8080/",
          "height": 285
        },
        "id": "DjmJAs4A3MRz",
        "outputId": "705774ea-8aff-4551-c8c1-b11ce085eb11"
      },
      "source": [
        "epochs = range(1, len(history.history['loss'])+1)\n",
        "training_acc = history.history['acc']\n",
        "validation_acc = history.history['val_acc']\n",
        "\n",
        "\n",
        "# b+ is for \"blue cross\"\n",
        "plt.plot(epochs, training_acc, label='Training Accuracy')\n",
        "# \"bo\" is for \"blue dot\"\n",
        "plt.plot(epochs, validation_acc, label='Validation Accuracy')\n",
        "plt.xlabel('Epochs')\n",
        "plt.ylabel('Accuracy')\n",
        "plt.legend()\n",
        "\n",
        "plt.show()"
      ],
      "execution_count": 171,
      "outputs": [
        {
          "output_type": "display_data",
          "data": {
            "image/png": "[encoded data removed]",
            "text/plain": [
              "<Figure size 432x288 with 1 Axes>"
            ]
          },
          "metadata": {
            "tags": []
          }
        }
      ]
    },
    {
      "cell_type": "code",
      "metadata": {
        "id": "ccW0aLKZf0Zn",
        "colab": {
          "base_uri": "https://localhost:8080/"
        },
        "outputId": "fd7d567e-0076-42bf-b441-a3af56d2a083"
      },
      "source": [
        "model.evaluate(x_test, y_test)"
      ],
      "execution_count": 204,
      "outputs": [
        {
          "output_type": "stream",
          "text": [
            "157/157 [==============================] - 1s 6ms/step - loss: 0.3664 - acc: 0.8768\n"
          ],
          "name": "stdout"
        },
        {
          "output_type": "execute_result",
          "data": {
            "text/plain": [
              "[0.3663865625858307, 0.876800000667572]"
            ]
          },
          "metadata": {
            "tags": []
          },
          "execution_count": 204
        }
      ]
    },
    {
      "cell_type": "code",
      "metadata": {
        "id": "PNV_8j1ZK4m8"
      },
      "source": [
        "# Loads the tokenizer\n",
        "with open('tokenizer.pickle', 'rb') as handle:\n",
        "    tokenizer = pickle.load(handle)"
      ],
      "execution_count": null,
      "outputs": []
    },
    {
      "cell_type": "code",
      "metadata": {
        "id": "93uqeh7VGrak"
      },
      "source": [
        "def predicting_reviews(texts, sequence=False):\n",
        "\n",
        "    # Saving the sequences\n",
        "    sequences = tokenizer.texts_to_sequences([texts])\n",
        "\n",
        "    # Padding the sequences\n",
        "    data = pad_sequences(sequences, maxlen=maxlen)\n",
        "\n",
        "    return data"
      ],
      "execution_count": 205,
      "outputs": []
    },
    {
      "cell_type": "code",
      "metadata": {
        "id": "Zd4SQQn9Eww0"
      },
      "source": [
        "review = \"I ABSOLUTELY LOVED THE MOVIE, BEST MOVIE OF ALL TIMES, GREAT PERFORMANCE\"#\"THIS MOVIE IS PLAINLY AWFUL. IT'S ALL THE WAY BORING AND EVEN MADE MY WIFE SLEEP\""
      ],
      "execution_count": 209,
      "outputs": []
    },
    {
      "cell_type": "code",
      "metadata": {
        "id": "3y7A4oQhEbL8"
      },
      "source": [
        "#review = denoise_text(review)\n",
        "review = predicting_reviews(review)"
      ],
      "execution_count": 210,
      "outputs": []
    },
    {
      "cell_type": "code",
      "metadata": {
        "colab": {
          "base_uri": "https://localhost:8080/"
        },
        "id": "_j-PiT7jEoBM",
        "outputId": "97c2c7d9-15f3-4ba6-9056-8c6b35aa1280"
      },
      "source": [
        "predict = model.predict(review)\n",
        "predict"
      ],
      "execution_count": 211,
      "outputs": [
        {
          "output_type": "execute_result",
          "data": {
            "text/plain": [
              "array([[0.9848695]], dtype=float32)"
            ]
          },
          "metadata": {
            "tags": []
          },
          "execution_count": 211
        }
      ]
    },
    {
      "cell_type": "code",
      "metadata": {
        "id": "al6b2jZEJeVl"
      },
      "source": [
        "sentiment_class = round(predict[0][0])"
      ],
      "execution_count": 167,
      "outputs": []
    },
    {
      "cell_type": "code",
      "metadata": {
        "colab": {
          "base_uri": "https://localhost:8080/"
        },
        "id": "wymFaWb3ImKk",
        "outputId": "68506c7f-5589-416a-f07b-b81a89cca9f3"
      },
      "source": [
        "if sentiment_class == 1:\n",
        "    print(\"Positive review\")\n",
        "else:\n",
        "    print(\"Negative review\")"
      ],
      "execution_count": 165,
      "outputs": [
        {
          "output_type": "stream",
          "text": [
            "Positive review\n"
          ],
          "name": "stdout"
        }
      ]
    }
  ]
}